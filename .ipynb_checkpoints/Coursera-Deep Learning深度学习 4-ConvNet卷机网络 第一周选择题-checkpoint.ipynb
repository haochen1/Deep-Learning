{
 "cells": [
  {
   "cell_type": "markdown",
   "metadata": {},
   "source": [
    "1.What do you think applying this filter to a grayscale image will do?\n",
    "\n",
    "$$ \\begin{bmatrix} \n",
    "0 & 1 & -1 & 0\\\\\n",
    "1 & 3 & -3 & 1\\\\\n",
    "1 & 3 & -3 & 1\\\\\n",
    "0 & 1 & -1 & 0\n",
    "\\end{bmatrix}$$\n",
    "\n",
    "Items in a colomn are similar\n",
    "\n",
    "Detect vertical edges"
   ]
  },
  {
   "cell_type": "markdown",
   "metadata": {},
   "source": [
    "2.Suppose your input is a 300 by 300 color (RGB) image, and you are not using a convolutional network. If the first hidden layer has 100 neurons, each one fully connected to the input, how many parameters does this hidden layer have (including the bias parameters)?\n",
    "\n",
    "$$w^{[1]}=(100,300\\times 300\\times 3) $$\n",
    "$$b^{[1]}=(100,1) $$\n",
    "\n",
    "2700100"
   ]
  },
  {
   "cell_type": "markdown",
   "metadata": {},
   "source": [
    "3.Suppose your input is a 300 by 300 color (RGB) image, and you use a convolutional layer with 100 filters that are each 5x5. How many parameters does this hidden layer have (including the bias parameters)?\n",
    "\n",
    "$$filter=5\\times 5\\times=75$$\n",
    "$$100 filters(+100 bias)=7600$$\n",
    "\n",
    "7600"
   ]
  },
  {
   "cell_type": "markdown",
   "metadata": {},
   "source": [
    "4.You have an input volume that is 63x63x16, and convolve it with 32 filters that are each 7x7, using a stride of 2 and no padding. What is the output volume?\n",
    "\n",
    "$$ n^{[l]}=\\lfloor \\frac{n^{[l-1]}+2p-f}{s}+1 \\rfloor \\times \\lfloor \\frac{n^{[l-1]}+2p-f}{s}+1 \\rfloor \\times n_c$$ $$n_c:\\# \\space \\space filters$$\n",
    "\n",
    "$29\\times 29\\times 32 $"
   ]
  },
  {
   "cell_type": "markdown",
   "metadata": {},
   "source": [
    "5.You have an input volume that is 15x15x8, and pad it using “pad=2.” What is the dimension of the resulting volume (after padding)?\n",
    "\n",
    "$19\\times 19\\times 8$"
   ]
  },
  {
   "cell_type": "markdown",
   "metadata": {},
   "source": [
    "6.You have an input volume that is 63x63x16, and convolve it with 32 filters that are each 7x7, and stride of 1. You want to use a “same” convolution. What is the padding?\n",
    "\n",
    "$$ n=\\frac{n+2p-f}{s}+1 \\to p=\\frac{f-s}{2}$$\n",
    "\n",
    "3"
   ]
  },
  {
   "cell_type": "markdown",
   "metadata": {},
   "source": [
    "7.You have an input volume that is 32x32x16, and apply max pooling with a stride of 2 and a filter size of 2. What is the output volume?\n",
    "\n",
    "$$\\lfloor \\frac{n_H-f}{s}+1\\rfloor \\times \\lfloor \\frac{n_W-f}{s}+1\\rfloor \\times n_C$$\n",
    "\n",
    "$16\\times 16\\times 16$"
   ]
  },
  {
   "cell_type": "markdown",
   "metadata": {},
   "source": [
    "8.Because pooling layers do not have parameters, they do not affect the backpropagation (derivatives) calculation.\n",
    "\n",
    "Suppose you have a matrix M of four elements\n",
    "$$ \\begin{bmatrix} \n",
    "a & b\\\\\n",
    "c & d\n",
    "\\end{bmatrix}$$\n",
    "and maxpool(M) returns d. Then, the maxpool function really only depends on d. So, the derivative of maxpool relative to d is 1, and its derivative relative to a,b,c is zero. So you backpropagate 1 to the unit corresponding to d, and you backpropagate zero for the other units.\n",
    "\n",
    "False"
   ]
  },
  {
   "cell_type": "markdown",
   "metadata": {},
   "source": [
    "9.In lecture we talked about “parameter sharing” as a benefit of using convolutional networks. Which of the following statements about parameter sharing in ConvNets are true? (Check all that apply.)\n",
    "\n",
    "It reduces the total number of parameters, thus reducing overfitting.\n",
    "\n",
    "It allows a feature detector to be used in multiple locations throughout the whole input image/input volume."
   ]
  },
  {
   "cell_type": "markdown",
   "metadata": {},
   "source": [
    "10.In lecture we talked about “sparsity of connections” as a benefit of using convolutional layers. What does this mean?\n",
    "\n",
    "Each activation in the next layer depends on only a small number of activations from the previous layer."
   ]
  },
  {
   "cell_type": "code",
   "execution_count": null,
   "metadata": {
    "collapsed": true
   },
   "outputs": [],
   "source": []
  }
 ],
 "metadata": {
  "kernelspec": {
   "display_name": "Python 3",
   "language": "python",
   "name": "python3"
  },
  "language_info": {
   "codemirror_mode": {
    "name": "ipython",
    "version": 3
   },
   "file_extension": ".py",
   "mimetype": "text/x-python",
   "name": "python",
   "nbconvert_exporter": "python",
   "pygments_lexer": "ipython3",
   "version": "3.5.4"
  }
 },
 "nbformat": 4,
 "nbformat_minor": 2
}
